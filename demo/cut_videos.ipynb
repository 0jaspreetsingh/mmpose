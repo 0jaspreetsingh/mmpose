{
 "cells": [
  {
   "cell_type": "code",
   "execution_count": 1,
   "metadata": {},
   "outputs": [
    {
     "name": "stdout",
     "output_type": "stream",
     "text": [
      "Moviepy - Building video /home/jaspreet/Downloads/Thesis/code/Sept 2/mmpose/vis_results/cut_videos/clip_1.mp4.\n",
      "MoviePy - Writing audio in clip_1TEMP_MPY_wvf_snd.mp3\n"
     ]
    },
    {
     "name": "stderr",
     "output_type": "stream",
     "text": [
      "                                                       \r"
     ]
    },
    {
     "name": "stdout",
     "output_type": "stream",
     "text": [
      "MoviePy - Done.\n",
      "Moviepy - Writing video /home/jaspreet/Downloads/Thesis/code/Sept 2/mmpose/vis_results/cut_videos/clip_1.mp4\n",
      "\n"
     ]
    },
    {
     "name": "stderr",
     "output_type": "stream",
     "text": [
      "                                                              \r"
     ]
    },
    {
     "name": "stdout",
     "output_type": "stream",
     "text": [
      "Moviepy - Done !\n",
      "Moviepy - video ready /home/jaspreet/Downloads/Thesis/code/Sept 2/mmpose/vis_results/cut_videos/clip_1.mp4\n",
      "Saved segment 1 from 8s to 12s as /home/jaspreet/Downloads/Thesis/code/Sept 2/mmpose/vis_results/cut_videos/clip_1.mp4\n",
      "Moviepy - Building video /home/jaspreet/Downloads/Thesis/code/Sept 2/mmpose/vis_results/cut_videos/clip_2.mp4.\n",
      "MoviePy - Writing audio in clip_2TEMP_MPY_wvf_snd.mp3\n"
     ]
    },
    {
     "name": "stderr",
     "output_type": "stream",
     "text": [
      "                                                        \r"
     ]
    },
    {
     "name": "stdout",
     "output_type": "stream",
     "text": [
      "MoviePy - Done.\n",
      "Moviepy - Writing video /home/jaspreet/Downloads/Thesis/code/Sept 2/mmpose/vis_results/cut_videos/clip_2.mp4\n",
      "\n"
     ]
    },
    {
     "name": "stderr",
     "output_type": "stream",
     "text": [
      "                                                              \r"
     ]
    },
    {
     "name": "stdout",
     "output_type": "stream",
     "text": [
      "Moviepy - Done !\n",
      "Moviepy - video ready /home/jaspreet/Downloads/Thesis/code/Sept 2/mmpose/vis_results/cut_videos/clip_2.mp4\n",
      "Saved segment 2 from 15s to 20s as /home/jaspreet/Downloads/Thesis/code/Sept 2/mmpose/vis_results/cut_videos/clip_2.mp4\n",
      "Moviepy - Building video /home/jaspreet/Downloads/Thesis/code/Sept 2/mmpose/vis_results/cut_videos/clip_3.mp4.\n",
      "MoviePy - Writing audio in clip_3TEMP_MPY_wvf_snd.mp3\n"
     ]
    },
    {
     "name": "stderr",
     "output_type": "stream",
     "text": [
      "                                                        \r"
     ]
    },
    {
     "name": "stdout",
     "output_type": "stream",
     "text": [
      "MoviePy - Done.\n",
      "Moviepy - Writing video /home/jaspreet/Downloads/Thesis/code/Sept 2/mmpose/vis_results/cut_videos/clip_3.mp4\n",
      "\n"
     ]
    },
    {
     "name": "stderr",
     "output_type": "stream",
     "text": [
      "                                                              \r"
     ]
    },
    {
     "name": "stdout",
     "output_type": "stream",
     "text": [
      "Moviepy - Done !\n",
      "Moviepy - video ready /home/jaspreet/Downloads/Thesis/code/Sept 2/mmpose/vis_results/cut_videos/clip_3.mp4\n",
      "Saved segment 3 from 23s to 28s as /home/jaspreet/Downloads/Thesis/code/Sept 2/mmpose/vis_results/cut_videos/clip_3.mp4\n",
      "Moviepy - Building video /home/jaspreet/Downloads/Thesis/code/Sept 2/mmpose/vis_results/cut_videos/clip_4.mp4.\n",
      "MoviePy - Writing audio in clip_4TEMP_MPY_wvf_snd.mp3\n"
     ]
    },
    {
     "name": "stderr",
     "output_type": "stream",
     "text": [
      "                                                       \r"
     ]
    },
    {
     "name": "stdout",
     "output_type": "stream",
     "text": [
      "MoviePy - Done.\n",
      "Moviepy - Writing video /home/jaspreet/Downloads/Thesis/code/Sept 2/mmpose/vis_results/cut_videos/clip_4.mp4\n",
      "\n"
     ]
    },
    {
     "name": "stderr",
     "output_type": "stream",
     "text": [
      "                                                             \r"
     ]
    },
    {
     "name": "stdout",
     "output_type": "stream",
     "text": [
      "Moviepy - Done !\n",
      "Moviepy - video ready /home/jaspreet/Downloads/Thesis/code/Sept 2/mmpose/vis_results/cut_videos/clip_4.mp4\n",
      "Saved segment 4 from 32s to 35s as /home/jaspreet/Downloads/Thesis/code/Sept 2/mmpose/vis_results/cut_videos/clip_4.mp4\n",
      "Moviepy - Building video /home/jaspreet/Downloads/Thesis/code/Sept 2/mmpose/vis_results/cut_videos/clip_5.mp4.\n",
      "MoviePy - Writing audio in clip_5TEMP_MPY_wvf_snd.mp3\n"
     ]
    },
    {
     "name": "stderr",
     "output_type": "stream",
     "text": [
      "                                                                    \r"
     ]
    },
    {
     "name": "stdout",
     "output_type": "stream",
     "text": [
      "MoviePy - Done.\n",
      "Moviepy - Writing video /home/jaspreet/Downloads/Thesis/code/Sept 2/mmpose/vis_results/cut_videos/clip_5.mp4\n",
      "\n"
     ]
    },
    {
     "name": "stderr",
     "output_type": "stream",
     "text": [
      "                                                               \r"
     ]
    },
    {
     "name": "stdout",
     "output_type": "stream",
     "text": [
      "Moviepy - Done !\n",
      "Moviepy - video ready /home/jaspreet/Downloads/Thesis/code/Sept 2/mmpose/vis_results/cut_videos/clip_5.mp4\n",
      "Saved segment 5 from 39s to 45s as /home/jaspreet/Downloads/Thesis/code/Sept 2/mmpose/vis_results/cut_videos/clip_5.mp4\n",
      "Moviepy - Building video /home/jaspreet/Downloads/Thesis/code/Sept 2/mmpose/vis_results/cut_videos/clip_6.mp4.\n",
      "MoviePy - Writing audio in clip_6TEMP_MPY_wvf_snd.mp3\n"
     ]
    },
    {
     "name": "stderr",
     "output_type": "stream",
     "text": [
      "                                                       \r"
     ]
    },
    {
     "name": "stdout",
     "output_type": "stream",
     "text": [
      "MoviePy - Done.\n",
      "Moviepy - Writing video /home/jaspreet/Downloads/Thesis/code/Sept 2/mmpose/vis_results/cut_videos/clip_6.mp4\n",
      "\n"
     ]
    },
    {
     "name": "stderr",
     "output_type": "stream",
     "text": [
      "                                                              \r"
     ]
    },
    {
     "name": "stdout",
     "output_type": "stream",
     "text": [
      "Moviepy - Done !\n",
      "Moviepy - video ready /home/jaspreet/Downloads/Thesis/code/Sept 2/mmpose/vis_results/cut_videos/clip_6.mp4\n",
      "Saved segment 6 from 48s to 52s as /home/jaspreet/Downloads/Thesis/code/Sept 2/mmpose/vis_results/cut_videos/clip_6.mp4\n",
      "Moviepy - Building video /home/jaspreet/Downloads/Thesis/code/Sept 2/mmpose/vis_results/cut_videos/clip_7.mp4.\n",
      "MoviePy - Writing audio in clip_7TEMP_MPY_wvf_snd.mp3\n"
     ]
    },
    {
     "name": "stderr",
     "output_type": "stream",
     "text": [
      "                                                       \r"
     ]
    },
    {
     "name": "stdout",
     "output_type": "stream",
     "text": [
      "MoviePy - Done.\n",
      "Moviepy - Writing video /home/jaspreet/Downloads/Thesis/code/Sept 2/mmpose/vis_results/cut_videos/clip_7.mp4\n",
      "\n"
     ]
    },
    {
     "name": "stderr",
     "output_type": "stream",
     "text": [
      "                                                             \r"
     ]
    },
    {
     "name": "stdout",
     "output_type": "stream",
     "text": [
      "Moviepy - Done !\n",
      "Moviepy - video ready /home/jaspreet/Downloads/Thesis/code/Sept 2/mmpose/vis_results/cut_videos/clip_7.mp4\n",
      "Saved segment 7 from 55s to 58s as /home/jaspreet/Downloads/Thesis/code/Sept 2/mmpose/vis_results/cut_videos/clip_7.mp4\n",
      "Moviepy - Building video /home/jaspreet/Downloads/Thesis/code/Sept 2/mmpose/vis_results/cut_videos/clip_8.mp4.\n",
      "MoviePy - Writing audio in clip_8TEMP_MPY_wvf_snd.mp3\n"
     ]
    },
    {
     "name": "stderr",
     "output_type": "stream",
     "text": [
      "                                                       \r"
     ]
    },
    {
     "name": "stdout",
     "output_type": "stream",
     "text": [
      "MoviePy - Done.\n",
      "Moviepy - Writing video /home/jaspreet/Downloads/Thesis/code/Sept 2/mmpose/vis_results/cut_videos/clip_8.mp4\n",
      "\n"
     ]
    },
    {
     "name": "stderr",
     "output_type": "stream",
     "text": [
      "                                                              \r"
     ]
    },
    {
     "name": "stdout",
     "output_type": "stream",
     "text": [
      "Moviepy - Done !\n",
      "Moviepy - video ready /home/jaspreet/Downloads/Thesis/code/Sept 2/mmpose/vis_results/cut_videos/clip_8.mp4\n",
      "Saved segment 8 from 61s to 65s as /home/jaspreet/Downloads/Thesis/code/Sept 2/mmpose/vis_results/cut_videos/clip_8.mp4\n",
      "Moviepy - Building video /home/jaspreet/Downloads/Thesis/code/Sept 2/mmpose/vis_results/cut_videos/clip_9.mp4.\n",
      "MoviePy - Writing audio in clip_9TEMP_MPY_wvf_snd.mp3\n"
     ]
    },
    {
     "name": "stderr",
     "output_type": "stream",
     "text": [
      "                                                       \r"
     ]
    },
    {
     "name": "stdout",
     "output_type": "stream",
     "text": [
      "MoviePy - Done.\n",
      "Moviepy - Writing video /home/jaspreet/Downloads/Thesis/code/Sept 2/mmpose/vis_results/cut_videos/clip_9.mp4\n",
      "\n"
     ]
    },
    {
     "name": "stderr",
     "output_type": "stream",
     "text": [
      "                                                              \r"
     ]
    },
    {
     "name": "stdout",
     "output_type": "stream",
     "text": [
      "Moviepy - Done !\n",
      "Moviepy - video ready /home/jaspreet/Downloads/Thesis/code/Sept 2/mmpose/vis_results/cut_videos/clip_9.mp4\n",
      "Saved segment 9 from 68s to 72s as /home/jaspreet/Downloads/Thesis/code/Sept 2/mmpose/vis_results/cut_videos/clip_9.mp4\n",
      "Moviepy - Building video /home/jaspreet/Downloads/Thesis/code/Sept 2/mmpose/vis_results/cut_videos/clip_10.mp4.\n",
      "MoviePy - Writing audio in clip_10TEMP_MPY_wvf_snd.mp3\n"
     ]
    },
    {
     "name": "stderr",
     "output_type": "stream",
     "text": [
      "                                                        \r"
     ]
    },
    {
     "name": "stdout",
     "output_type": "stream",
     "text": [
      "MoviePy - Done.\n",
      "Moviepy - Writing video /home/jaspreet/Downloads/Thesis/code/Sept 2/mmpose/vis_results/cut_videos/clip_10.mp4\n",
      "\n"
     ]
    },
    {
     "name": "stderr",
     "output_type": "stream",
     "text": [
      "                                                              \r"
     ]
    },
    {
     "name": "stdout",
     "output_type": "stream",
     "text": [
      "Moviepy - Done !\n",
      "Moviepy - video ready /home/jaspreet/Downloads/Thesis/code/Sept 2/mmpose/vis_results/cut_videos/clip_10.mp4\n",
      "Saved segment 10 from 75s to 80s as /home/jaspreet/Downloads/Thesis/code/Sept 2/mmpose/vis_results/cut_videos/clip_10.mp4\n",
      "Moviepy - Building video /home/jaspreet/Downloads/Thesis/code/Sept 2/mmpose/vis_results/cut_videos/clip_11.mp4.\n",
      "MoviePy - Writing audio in clip_11TEMP_MPY_wvf_snd.mp3\n"
     ]
    },
    {
     "name": "stderr",
     "output_type": "stream",
     "text": [
      "                                                       \r"
     ]
    },
    {
     "name": "stdout",
     "output_type": "stream",
     "text": [
      "MoviePy - Done.\n",
      "Moviepy - Writing video /home/jaspreet/Downloads/Thesis/code/Sept 2/mmpose/vis_results/cut_videos/clip_11.mp4\n",
      "\n"
     ]
    },
    {
     "name": "stderr",
     "output_type": "stream",
     "text": [
      "                                                   \r"
     ]
    },
    {
     "name": "stdout",
     "output_type": "stream",
     "text": [
      "Moviepy - Done !\n",
      "Moviepy - video ready /home/jaspreet/Downloads/Thesis/code/Sept 2/mmpose/vis_results/cut_videos/clip_11.mp4\n",
      "Saved segment 11 from 83s to 85s as /home/jaspreet/Downloads/Thesis/code/Sept 2/mmpose/vis_results/cut_videos/clip_11.mp4\n",
      "Moviepy - Building video /home/jaspreet/Downloads/Thesis/code/Sept 2/mmpose/vis_results/cut_videos/clip_12.mp4.\n",
      "MoviePy - Writing audio in clip_12TEMP_MPY_wvf_snd.mp3\n"
     ]
    },
    {
     "name": "stderr",
     "output_type": "stream",
     "text": [
      "                                                        \r"
     ]
    },
    {
     "name": "stdout",
     "output_type": "stream",
     "text": [
      "MoviePy - Done.\n",
      "Moviepy - Writing video /home/jaspreet/Downloads/Thesis/code/Sept 2/mmpose/vis_results/cut_videos/clip_12.mp4\n",
      "\n"
     ]
    },
    {
     "name": "stderr",
     "output_type": "stream",
     "text": [
      "                                                               \r"
     ]
    },
    {
     "name": "stdout",
     "output_type": "stream",
     "text": [
      "Moviepy - Done !\n",
      "Moviepy - video ready /home/jaspreet/Downloads/Thesis/code/Sept 2/mmpose/vis_results/cut_videos/clip_12.mp4\n",
      "Saved segment 12 from 87s to 93s as /home/jaspreet/Downloads/Thesis/code/Sept 2/mmpose/vis_results/cut_videos/clip_12.mp4\n",
      "Moviepy - Building video /home/jaspreet/Downloads/Thesis/code/Sept 2/mmpose/vis_results/cut_videos/clip_13.mp4.\n",
      "MoviePy - Writing audio in clip_13TEMP_MPY_wvf_snd.mp3\n"
     ]
    },
    {
     "name": "stderr",
     "output_type": "stream",
     "text": [
      "                                                                  \r"
     ]
    },
    {
     "name": "stdout",
     "output_type": "stream",
     "text": [
      "MoviePy - Done.\n",
      "Moviepy - Writing video /home/jaspreet/Downloads/Thesis/code/Sept 2/mmpose/vis_results/cut_videos/clip_13.mp4\n",
      "\n"
     ]
    },
    {
     "name": "stderr",
     "output_type": "stream",
     "text": [
      "                                                               \r"
     ]
    },
    {
     "name": "stdout",
     "output_type": "stream",
     "text": [
      "Moviepy - Done !\n",
      "Moviepy - video ready /home/jaspreet/Downloads/Thesis/code/Sept 2/mmpose/vis_results/cut_videos/clip_13.mp4\n",
      "Saved segment 13 from 96s to 103s as /home/jaspreet/Downloads/Thesis/code/Sept 2/mmpose/vis_results/cut_videos/clip_13.mp4\n",
      "Moviepy - Building video /home/jaspreet/Downloads/Thesis/code/Sept 2/mmpose/vis_results/cut_videos/clip_14.mp4.\n",
      "MoviePy - Writing audio in clip_14TEMP_MPY_wvf_snd.mp3\n"
     ]
    },
    {
     "name": "stderr",
     "output_type": "stream",
     "text": [
      "                                                        \r"
     ]
    },
    {
     "name": "stdout",
     "output_type": "stream",
     "text": [
      "MoviePy - Done.\n",
      "Moviepy - Writing video /home/jaspreet/Downloads/Thesis/code/Sept 2/mmpose/vis_results/cut_videos/clip_14.mp4\n",
      "\n"
     ]
    },
    {
     "name": "stderr",
     "output_type": "stream",
     "text": [
      "                                                               \r"
     ]
    },
    {
     "name": "stdout",
     "output_type": "stream",
     "text": [
      "Moviepy - Done !\n",
      "Moviepy - video ready /home/jaspreet/Downloads/Thesis/code/Sept 2/mmpose/vis_results/cut_videos/clip_14.mp4\n",
      "Saved segment 14 from 107s to 112s as /home/jaspreet/Downloads/Thesis/code/Sept 2/mmpose/vis_results/cut_videos/clip_14.mp4\n",
      "Moviepy - Building video /home/jaspreet/Downloads/Thesis/code/Sept 2/mmpose/vis_results/cut_videos/clip_15.mp4.\n",
      "MoviePy - Writing audio in clip_15TEMP_MPY_wvf_snd.mp3\n"
     ]
    },
    {
     "name": "stderr",
     "output_type": "stream",
     "text": [
      "                                                        \r"
     ]
    },
    {
     "name": "stdout",
     "output_type": "stream",
     "text": [
      "MoviePy - Done.\n",
      "Moviepy - Writing video /home/jaspreet/Downloads/Thesis/code/Sept 2/mmpose/vis_results/cut_videos/clip_15.mp4\n",
      "\n"
     ]
    },
    {
     "name": "stderr",
     "output_type": "stream",
     "text": [
      "                                                               \r"
     ]
    },
    {
     "name": "stdout",
     "output_type": "stream",
     "text": [
      "Moviepy - Done !\n",
      "Moviepy - video ready /home/jaspreet/Downloads/Thesis/code/Sept 2/mmpose/vis_results/cut_videos/clip_15.mp4\n",
      "Saved segment 15 from 115s to 120s as /home/jaspreet/Downloads/Thesis/code/Sept 2/mmpose/vis_results/cut_videos/clip_15.mp4\n",
      "Moviepy - Building video /home/jaspreet/Downloads/Thesis/code/Sept 2/mmpose/vis_results/cut_videos/clip_16.mp4.\n",
      "MoviePy - Writing audio in clip_16TEMP_MPY_wvf_snd.mp3\n"
     ]
    },
    {
     "name": "stderr",
     "output_type": "stream",
     "text": [
      "                                                                    \r"
     ]
    },
    {
     "name": "stdout",
     "output_type": "stream",
     "text": [
      "MoviePy - Done.\n",
      "Moviepy - Writing video /home/jaspreet/Downloads/Thesis/code/Sept 2/mmpose/vis_results/cut_videos/clip_16.mp4\n",
      "\n"
     ]
    },
    {
     "name": "stderr",
     "output_type": "stream",
     "text": [
      "                                                               \r"
     ]
    },
    {
     "name": "stdout",
     "output_type": "stream",
     "text": [
      "Moviepy - Done !\n",
      "Moviepy - video ready /home/jaspreet/Downloads/Thesis/code/Sept 2/mmpose/vis_results/cut_videos/clip_16.mp4\n",
      "Saved segment 16 from 123s to 131s as /home/jaspreet/Downloads/Thesis/code/Sept 2/mmpose/vis_results/cut_videos/clip_16.mp4\n",
      "Moviepy - Building video /home/jaspreet/Downloads/Thesis/code/Sept 2/mmpose/vis_results/cut_videos/clip_17.mp4.\n",
      "MoviePy - Writing audio in clip_17TEMP_MPY_wvf_snd.mp3\n"
     ]
    },
    {
     "name": "stderr",
     "output_type": "stream",
     "text": [
      "                                                                  \r"
     ]
    },
    {
     "name": "stdout",
     "output_type": "stream",
     "text": [
      "MoviePy - Done.\n",
      "Moviepy - Writing video /home/jaspreet/Downloads/Thesis/code/Sept 2/mmpose/vis_results/cut_videos/clip_17.mp4\n",
      "\n"
     ]
    },
    {
     "name": "stderr",
     "output_type": "stream",
     "text": [
      "                                                               \r"
     ]
    },
    {
     "name": "stdout",
     "output_type": "stream",
     "text": [
      "Moviepy - Done !\n",
      "Moviepy - video ready /home/jaspreet/Downloads/Thesis/code/Sept 2/mmpose/vis_results/cut_videos/clip_17.mp4\n",
      "Saved segment 17 from 134s to 140s as /home/jaspreet/Downloads/Thesis/code/Sept 2/mmpose/vis_results/cut_videos/clip_17.mp4\n",
      "Moviepy - Building video /home/jaspreet/Downloads/Thesis/code/Sept 2/mmpose/vis_results/cut_videos/clip_18.mp4.\n",
      "MoviePy - Writing audio in clip_18TEMP_MPY_wvf_snd.mp3\n"
     ]
    },
    {
     "name": "stderr",
     "output_type": "stream",
     "text": [
      "                                                        \r"
     ]
    },
    {
     "name": "stdout",
     "output_type": "stream",
     "text": [
      "MoviePy - Done.\n",
      "Moviepy - Writing video /home/jaspreet/Downloads/Thesis/code/Sept 2/mmpose/vis_results/cut_videos/clip_18.mp4\n",
      "\n"
     ]
    },
    {
     "name": "stderr",
     "output_type": "stream",
     "text": [
      "                                                              \r"
     ]
    },
    {
     "name": "stdout",
     "output_type": "stream",
     "text": [
      "Moviepy - Done !\n",
      "Moviepy - video ready /home/jaspreet/Downloads/Thesis/code/Sept 2/mmpose/vis_results/cut_videos/clip_18.mp4\n",
      "Saved segment 18 from 143s to 148s as /home/jaspreet/Downloads/Thesis/code/Sept 2/mmpose/vis_results/cut_videos/clip_18.mp4\n",
      "Moviepy - Building video /home/jaspreet/Downloads/Thesis/code/Sept 2/mmpose/vis_results/cut_videos/clip_19.mp4.\n",
      "MoviePy - Writing audio in clip_19TEMP_MPY_wvf_snd.mp3\n"
     ]
    },
    {
     "name": "stderr",
     "output_type": "stream",
     "text": [
      "                                                                    \r"
     ]
    },
    {
     "name": "stdout",
     "output_type": "stream",
     "text": [
      "MoviePy - Done.\n",
      "Moviepy - Writing video /home/jaspreet/Downloads/Thesis/code/Sept 2/mmpose/vis_results/cut_videos/clip_19.mp4\n",
      "\n"
     ]
    },
    {
     "name": "stderr",
     "output_type": "stream",
     "text": [
      "                                                               \r"
     ]
    },
    {
     "name": "stdout",
     "output_type": "stream",
     "text": [
      "Moviepy - Done !\n",
      "Moviepy - video ready /home/jaspreet/Downloads/Thesis/code/Sept 2/mmpose/vis_results/cut_videos/clip_19.mp4\n",
      "Saved segment 19 from 152s to 158s as /home/jaspreet/Downloads/Thesis/code/Sept 2/mmpose/vis_results/cut_videos/clip_19.mp4\n",
      "Moviepy - Building video /home/jaspreet/Downloads/Thesis/code/Sept 2/mmpose/vis_results/cut_videos/clip_20.mp4.\n",
      "MoviePy - Writing audio in clip_20TEMP_MPY_wvf_snd.mp3\n"
     ]
    },
    {
     "name": "stderr",
     "output_type": "stream",
     "text": [
      "                                                                   \r"
     ]
    },
    {
     "name": "stdout",
     "output_type": "stream",
     "text": [
      "MoviePy - Done.\n",
      "Moviepy - Writing video /home/jaspreet/Downloads/Thesis/code/Sept 2/mmpose/vis_results/cut_videos/clip_20.mp4\n",
      "\n"
     ]
    },
    {
     "name": "stderr",
     "output_type": "stream",
     "text": [
      "                                                               \r"
     ]
    },
    {
     "name": "stdout",
     "output_type": "stream",
     "text": [
      "Moviepy - Done !\n",
      "Moviepy - video ready /home/jaspreet/Downloads/Thesis/code/Sept 2/mmpose/vis_results/cut_videos/clip_20.mp4\n",
      "Saved segment 20 from 161s to 169s as /home/jaspreet/Downloads/Thesis/code/Sept 2/mmpose/vis_results/cut_videos/clip_20.mp4\n",
      "Moviepy - Building video /home/jaspreet/Downloads/Thesis/code/Sept 2/mmpose/vis_results/cut_videos/clip_21.mp4.\n",
      "MoviePy - Writing audio in clip_21TEMP_MPY_wvf_snd.mp3\n"
     ]
    },
    {
     "name": "stderr",
     "output_type": "stream",
     "text": [
      "                                                                  \r"
     ]
    },
    {
     "name": "stdout",
     "output_type": "stream",
     "text": [
      "MoviePy - Done.\n",
      "Moviepy - Writing video /home/jaspreet/Downloads/Thesis/code/Sept 2/mmpose/vis_results/cut_videos/clip_21.mp4\n",
      "\n"
     ]
    },
    {
     "name": "stderr",
     "output_type": "stream",
     "text": [
      "                                                               \r"
     ]
    },
    {
     "name": "stdout",
     "output_type": "stream",
     "text": [
      "Moviepy - Done !\n",
      "Moviepy - video ready /home/jaspreet/Downloads/Thesis/code/Sept 2/mmpose/vis_results/cut_videos/clip_21.mp4\n",
      "Saved segment 21 from 172s to 182s as /home/jaspreet/Downloads/Thesis/code/Sept 2/mmpose/vis_results/cut_videos/clip_21.mp4\n",
      "Moviepy - Building video /home/jaspreet/Downloads/Thesis/code/Sept 2/mmpose/vis_results/cut_videos/clip_22.mp4.\n",
      "MoviePy - Writing audio in clip_22TEMP_MPY_wvf_snd.mp3\n"
     ]
    },
    {
     "name": "stderr",
     "output_type": "stream",
     "text": [
      "                                                                    \r"
     ]
    },
    {
     "name": "stdout",
     "output_type": "stream",
     "text": [
      "MoviePy - Done.\n",
      "Moviepy - Writing video /home/jaspreet/Downloads/Thesis/code/Sept 2/mmpose/vis_results/cut_videos/clip_22.mp4\n",
      "\n"
     ]
    },
    {
     "name": "stderr",
     "output_type": "stream",
     "text": [
      "                                                               \r"
     ]
    },
    {
     "name": "stdout",
     "output_type": "stream",
     "text": [
      "Moviepy - Done !\n",
      "Moviepy - video ready /home/jaspreet/Downloads/Thesis/code/Sept 2/mmpose/vis_results/cut_videos/clip_22.mp4\n",
      "Saved segment 22 from 184s to 190s as /home/jaspreet/Downloads/Thesis/code/Sept 2/mmpose/vis_results/cut_videos/clip_22.mp4\n",
      "Moviepy - Building video /home/jaspreet/Downloads/Thesis/code/Sept 2/mmpose/vis_results/cut_videos/clip_23.mp4.\n",
      "MoviePy - Writing audio in clip_23TEMP_MPY_wvf_snd.mp3\n"
     ]
    },
    {
     "name": "stderr",
     "output_type": "stream",
     "text": [
      "                                                                  \r"
     ]
    },
    {
     "name": "stdout",
     "output_type": "stream",
     "text": [
      "MoviePy - Done.\n",
      "Moviepy - Writing video /home/jaspreet/Downloads/Thesis/code/Sept 2/mmpose/vis_results/cut_videos/clip_23.mp4\n",
      "\n"
     ]
    },
    {
     "name": "stderr",
     "output_type": "stream",
     "text": [
      "                                                               \r"
     ]
    },
    {
     "name": "stdout",
     "output_type": "stream",
     "text": [
      "Moviepy - Done !\n",
      "Moviepy - video ready /home/jaspreet/Downloads/Thesis/code/Sept 2/mmpose/vis_results/cut_videos/clip_23.mp4\n",
      "Saved segment 23 from 194s to 200s as /home/jaspreet/Downloads/Thesis/code/Sept 2/mmpose/vis_results/cut_videos/clip_23.mp4\n",
      "Moviepy - Building video /home/jaspreet/Downloads/Thesis/code/Sept 2/mmpose/vis_results/cut_videos/clip_24.mp4.\n",
      "MoviePy - Writing audio in clip_24TEMP_MPY_wvf_snd.mp3\n"
     ]
    },
    {
     "name": "stderr",
     "output_type": "stream",
     "text": [
      "                                                       \r"
     ]
    },
    {
     "name": "stdout",
     "output_type": "stream",
     "text": [
      "MoviePy - Done.\n",
      "Moviepy - Writing video /home/jaspreet/Downloads/Thesis/code/Sept 2/mmpose/vis_results/cut_videos/clip_24.mp4\n",
      "\n"
     ]
    },
    {
     "name": "stderr",
     "output_type": "stream",
     "text": [
      "                                                              \r"
     ]
    },
    {
     "name": "stdout",
     "output_type": "stream",
     "text": [
      "Moviepy - Done !\n",
      "Moviepy - video ready /home/jaspreet/Downloads/Thesis/code/Sept 2/mmpose/vis_results/cut_videos/clip_24.mp4\n",
      "Saved segment 24 from 202s to 206s as /home/jaspreet/Downloads/Thesis/code/Sept 2/mmpose/vis_results/cut_videos/clip_24.mp4\n",
      "Moviepy - Building video /home/jaspreet/Downloads/Thesis/code/Sept 2/mmpose/vis_results/cut_videos/clip_25.mp4.\n",
      "MoviePy - Writing audio in clip_25TEMP_MPY_wvf_snd.mp3\n"
     ]
    },
    {
     "name": "stderr",
     "output_type": "stream",
     "text": [
      "                                                        \r"
     ]
    },
    {
     "name": "stdout",
     "output_type": "stream",
     "text": [
      "MoviePy - Done.\n",
      "Moviepy - Writing video /home/jaspreet/Downloads/Thesis/code/Sept 2/mmpose/vis_results/cut_videos/clip_25.mp4\n",
      "\n"
     ]
    },
    {
     "name": "stderr",
     "output_type": "stream",
     "text": [
      "                                                              \r"
     ]
    },
    {
     "name": "stdout",
     "output_type": "stream",
     "text": [
      "Moviepy - Done !\n",
      "Moviepy - video ready /home/jaspreet/Downloads/Thesis/code/Sept 2/mmpose/vis_results/cut_videos/clip_25.mp4\n",
      "Saved segment 25 from 209s to 214s as /home/jaspreet/Downloads/Thesis/code/Sept 2/mmpose/vis_results/cut_videos/clip_25.mp4\n",
      "Moviepy - Building video /home/jaspreet/Downloads/Thesis/code/Sept 2/mmpose/vis_results/cut_videos/clip_26.mp4.\n",
      "MoviePy - Writing audio in clip_26TEMP_MPY_wvf_snd.mp3\n"
     ]
    },
    {
     "name": "stderr",
     "output_type": "stream",
     "text": [
      "                                                       \r"
     ]
    },
    {
     "name": "stdout",
     "output_type": "stream",
     "text": [
      "MoviePy - Done.\n",
      "Moviepy - Writing video /home/jaspreet/Downloads/Thesis/code/Sept 2/mmpose/vis_results/cut_videos/clip_26.mp4\n",
      "\n"
     ]
    },
    {
     "name": "stderr",
     "output_type": "stream",
     "text": [
      "                                                             \r"
     ]
    },
    {
     "name": "stdout",
     "output_type": "stream",
     "text": [
      "Moviepy - Done !\n",
      "Moviepy - video ready /home/jaspreet/Downloads/Thesis/code/Sept 2/mmpose/vis_results/cut_videos/clip_26.mp4\n",
      "Saved segment 26 from 217s to 220s as /home/jaspreet/Downloads/Thesis/code/Sept 2/mmpose/vis_results/cut_videos/clip_26.mp4\n",
      "Moviepy - Building video /home/jaspreet/Downloads/Thesis/code/Sept 2/mmpose/vis_results/cut_videos/clip_27.mp4.\n",
      "MoviePy - Writing audio in clip_27TEMP_MPY_wvf_snd.mp3\n"
     ]
    },
    {
     "name": "stderr",
     "output_type": "stream",
     "text": [
      "                                                        \r"
     ]
    },
    {
     "name": "stdout",
     "output_type": "stream",
     "text": [
      "MoviePy - Done.\n",
      "Moviepy - Writing video /home/jaspreet/Downloads/Thesis/code/Sept 2/mmpose/vis_results/cut_videos/clip_27.mp4\n",
      "\n"
     ]
    },
    {
     "name": "stderr",
     "output_type": "stream",
     "text": [
      "                                                              \r"
     ]
    },
    {
     "name": "stdout",
     "output_type": "stream",
     "text": [
      "Moviepy - Done !\n",
      "Moviepy - video ready /home/jaspreet/Downloads/Thesis/code/Sept 2/mmpose/vis_results/cut_videos/clip_27.mp4\n",
      "Saved segment 27 from 223s to 228s as /home/jaspreet/Downloads/Thesis/code/Sept 2/mmpose/vis_results/cut_videos/clip_27.mp4\n",
      "Moviepy - Building video /home/jaspreet/Downloads/Thesis/code/Sept 2/mmpose/vis_results/cut_videos/clip_28.mp4.\n",
      "MoviePy - Writing audio in clip_28TEMP_MPY_wvf_snd.mp3\n"
     ]
    },
    {
     "name": "stderr",
     "output_type": "stream",
     "text": [
      "                                                                    \r"
     ]
    },
    {
     "name": "stdout",
     "output_type": "stream",
     "text": [
      "MoviePy - Done.\n",
      "Moviepy - Writing video /home/jaspreet/Downloads/Thesis/code/Sept 2/mmpose/vis_results/cut_videos/clip_28.mp4\n",
      "\n"
     ]
    },
    {
     "name": "stderr",
     "output_type": "stream",
     "text": [
      "                                                               \r"
     ]
    },
    {
     "name": "stdout",
     "output_type": "stream",
     "text": [
      "Moviepy - Done !\n",
      "Moviepy - video ready /home/jaspreet/Downloads/Thesis/code/Sept 2/mmpose/vis_results/cut_videos/clip_28.mp4\n",
      "Saved segment 28 from 231s to 241s as /home/jaspreet/Downloads/Thesis/code/Sept 2/mmpose/vis_results/cut_videos/clip_28.mp4\n",
      "Moviepy - Building video /home/jaspreet/Downloads/Thesis/code/Sept 2/mmpose/vis_results/cut_videos/clip_29.mp4.\n",
      "MoviePy - Writing audio in clip_29TEMP_MPY_wvf_snd.mp3\n"
     ]
    },
    {
     "name": "stderr",
     "output_type": "stream",
     "text": [
      "                                                       \r"
     ]
    },
    {
     "name": "stdout",
     "output_type": "stream",
     "text": [
      "MoviePy - Done.\n",
      "Moviepy - Writing video /home/jaspreet/Downloads/Thesis/code/Sept 2/mmpose/vis_results/cut_videos/clip_29.mp4\n",
      "\n"
     ]
    },
    {
     "name": "stderr",
     "output_type": "stream",
     "text": [
      "                                                              \r"
     ]
    },
    {
     "name": "stdout",
     "output_type": "stream",
     "text": [
      "Moviepy - Done !\n",
      "Moviepy - video ready /home/jaspreet/Downloads/Thesis/code/Sept 2/mmpose/vis_results/cut_videos/clip_29.mp4\n",
      "Saved segment 29 from 245s to 249s as /home/jaspreet/Downloads/Thesis/code/Sept 2/mmpose/vis_results/cut_videos/clip_29.mp4\n",
      "Moviepy - Building video /home/jaspreet/Downloads/Thesis/code/Sept 2/mmpose/vis_results/cut_videos/clip_30.mp4.\n",
      "MoviePy - Writing audio in clip_30TEMP_MPY_wvf_snd.mp3\n"
     ]
    },
    {
     "name": "stderr",
     "output_type": "stream",
     "text": [
      "                                                                    \r"
     ]
    },
    {
     "name": "stdout",
     "output_type": "stream",
     "text": [
      "MoviePy - Done.\n",
      "Moviepy - Writing video /home/jaspreet/Downloads/Thesis/code/Sept 2/mmpose/vis_results/cut_videos/clip_30.mp4\n",
      "\n"
     ]
    },
    {
     "name": "stderr",
     "output_type": "stream",
     "text": [
      "                                                               \r"
     ]
    },
    {
     "name": "stdout",
     "output_type": "stream",
     "text": [
      "Moviepy - Done !\n",
      "Moviepy - video ready /home/jaspreet/Downloads/Thesis/code/Sept 2/mmpose/vis_results/cut_videos/clip_30.mp4\n",
      "Saved segment 30 from 252s to 259s as /home/jaspreet/Downloads/Thesis/code/Sept 2/mmpose/vis_results/cut_videos/clip_30.mp4\n"
     ]
    }
   ],
   "source": [
    "from moviepy.video.io.VideoFileClip import VideoFileClip\n",
    "\n",
    "def cut_video(input_video_path, segments, output_folder):\n",
    "    \"\"\"\n",
    "    Cut a video into separate clips based on start and end times.\n",
    "\n",
    "    Parameters:\n",
    "        input_video_path (str): Path to the main video.\n",
    "        segments (list): List of tuples with start and end times in seconds, e.g., [(start1, end1), (start2, end2), ...].\n",
    "        output_folder (str): Path to the folder where output clips will be saved.\n",
    "    \"\"\"\n",
    "    for i, (start, end) in enumerate(segments):\n",
    "        with VideoFileClip(input_video_path) as video:\n",
    "            clip = video.subclip(start, end)\n",
    "            output_path = f\"{output_folder}/clip_{i + 1}.mp4\"\n",
    "            clip.write_videofile(output_path, codec=\"libx264\")\n",
    "            print(f\"Saved segment {i + 1} from {start}s to {end}s as {output_path}\")\n",
    "\n",
    "# Example usage\n",
    "input_video_path = \"/home/jaspreet/Downloads/Thesis/code/Sept 2/mmpose/vis_results/Aircraft Marshalling.mp4\"\n",
    "segments = [(8, 12), (15, 20), (23, 28), (32,35), (39,45 ), (48,52), (55, 58), (61, 65 ), (68, 72), (75,80), (83, 85), (87, 93),(96,103),(107,112),(115,120),(123, 131), (134,140), (143,148),(152,158),(161,169), (172,182), (184,190), (194,200), (202, 206), (209,214), (217,220), (223,228), (231, 241), (245,249), (252,259)]  # Start and end times in seconds\n",
    "output_folder = \"/home/jaspreet/Downloads/Thesis/code/Sept 2/mmpose/vis_results/cut_videos\"\n",
    "\n",
    "cut_video(input_video_path, segments, output_folder)\n"
   ]
  },
  {
   "cell_type": "code",
   "execution_count": 15,
   "metadata": {},
   "outputs": [
    {
     "name": "stdout",
     "output_type": "stream",
     "text": [
      "[1280, 720]\n",
      "['/home/jaspreet/Downloads/Thesis/Thesis_gesture_videos/IMG_9912.MOV', '/home/jaspreet/Downloads/Thesis/Thesis_gesture_videos/IMG_9897.MOV', '/home/jaspreet/Downloads/Thesis/Thesis_gesture_videos/IMG_9915.MOV', '/home/jaspreet/Downloads/Thesis/Thesis_gesture_videos/IMG_9910.MOV', '/home/jaspreet/Downloads/Thesis/Thesis_gesture_videos/IMG_9896.MOV', '/home/jaspreet/Downloads/Thesis/Thesis_gesture_videos/IMG_9912(1).MOV', '/home/jaspreet/Downloads/Thesis/Thesis_gesture_videos/IMG_9900.MOV', '/home/jaspreet/Downloads/Thesis/Thesis_gesture_videos/IMG_9903.MOV', '/home/jaspreet/Downloads/Thesis/Thesis_gesture_videos/IMG_9899.MOV', '/home/jaspreet/Downloads/Thesis/Thesis_gesture_videos/IMG_9907.MOV', '/home/jaspreet/Downloads/Thesis/Thesis_gesture_videos/IMG_9905.MOV', '/home/jaspreet/Downloads/Thesis/Thesis_gesture_videos/IMG_9914.MOV', '/home/jaspreet/Downloads/Thesis/Thesis_gesture_videos/IMG_9902.MOV', '/home/jaspreet/Downloads/Thesis/Thesis_gesture_videos/IMG_9898.MOV', '/home/jaspreet/Downloads/Thesis/Thesis_gesture_videos/IMG_9913.MOV', '/home/jaspreet/Downloads/Thesis/Thesis_gesture_videos/IMG_9908.MOV', '/home/jaspreet/Downloads/Thesis/Thesis_gesture_videos/IMG_9905(1).MOV', '/home/jaspreet/Downloads/Thesis/Thesis_gesture_videos/IMG_9906.MOV', '/home/jaspreet/Downloads/Thesis/Thesis_gesture_videos/IMG_9907(1).MOV', '/home/jaspreet/Downloads/Thesis/Thesis_gesture_videos/IMG_9901.MOV']\n"
     ]
    },
    {
     "ename": "KeyboardInterrupt",
     "evalue": "",
     "output_type": "error",
     "traceback": [
      "\u001b[0;31m---------------------------------------------------------------------------\u001b[0m",
      "\u001b[0;31mKeyboardInterrupt\u001b[0m                         Traceback (most recent call last)",
      "Cell \u001b[0;32mIn[15], line 23\u001b[0m\n\u001b[1;32m     21\u001b[0m clips \u001b[38;5;241m=\u001b[39m []\n\u001b[1;32m     22\u001b[0m \u001b[38;5;28;01mfor\u001b[39;00m path \u001b[38;5;129;01min\u001b[39;00m video_paths:\n\u001b[0;32m---> 23\u001b[0m     clip \u001b[38;5;241m=\u001b[39m \u001b[43mVideoFileClip\u001b[49m\u001b[43m(\u001b[49m\u001b[43mpath\u001b[49m\u001b[43m)\u001b[49m\n\u001b[1;32m     24\u001b[0m     clip_resized \u001b[38;5;241m=\u001b[39m clip\u001b[38;5;241m.\u001b[39mresize((reference_height, reference_width))\n\u001b[1;32m     25\u001b[0m     \u001b[38;5;66;03m# Remove audio from the clip\u001b[39;00m\n",
      "File \u001b[0;32m~/anaconda3/envs/openmmlab/lib/python3.8/site-packages/moviepy/video/io/VideoFileClip.py:88\u001b[0m, in \u001b[0;36mVideoFileClip.__init__\u001b[0;34m(self, filename, has_mask, audio, audio_buffersize, target_resolution, resize_algorithm, audio_fps, audio_nbytes, verbose, fps_source)\u001b[0m\n\u001b[1;32m     86\u001b[0m \u001b[38;5;66;03m# Make a reader\u001b[39;00m\n\u001b[1;32m     87\u001b[0m pix_fmt \u001b[38;5;241m=\u001b[39m \u001b[38;5;124m\"\u001b[39m\u001b[38;5;124mrgba\u001b[39m\u001b[38;5;124m\"\u001b[39m \u001b[38;5;28;01mif\u001b[39;00m has_mask \u001b[38;5;28;01melse\u001b[39;00m \u001b[38;5;124m\"\u001b[39m\u001b[38;5;124mrgb24\u001b[39m\u001b[38;5;124m\"\u001b[39m\n\u001b[0;32m---> 88\u001b[0m \u001b[38;5;28mself\u001b[39m\u001b[38;5;241m.\u001b[39mreader \u001b[38;5;241m=\u001b[39m \u001b[43mFFMPEG_VideoReader\u001b[49m\u001b[43m(\u001b[49m\u001b[43mfilename\u001b[49m\u001b[43m,\u001b[49m\u001b[43m \u001b[49m\u001b[43mpix_fmt\u001b[49m\u001b[38;5;241;43m=\u001b[39;49m\u001b[43mpix_fmt\u001b[49m\u001b[43m,\u001b[49m\n\u001b[1;32m     89\u001b[0m \u001b[43m                                 \u001b[49m\u001b[43mtarget_resolution\u001b[49m\u001b[38;5;241;43m=\u001b[39;49m\u001b[43mtarget_resolution\u001b[49m\u001b[43m,\u001b[49m\n\u001b[1;32m     90\u001b[0m \u001b[43m                                 \u001b[49m\u001b[43mresize_algo\u001b[49m\u001b[38;5;241;43m=\u001b[39;49m\u001b[43mresize_algorithm\u001b[49m\u001b[43m,\u001b[49m\n\u001b[1;32m     91\u001b[0m \u001b[43m                                 \u001b[49m\u001b[43mfps_source\u001b[49m\u001b[38;5;241;43m=\u001b[39;49m\u001b[43mfps_source\u001b[49m\u001b[43m)\u001b[49m\n\u001b[1;32m     93\u001b[0m \u001b[38;5;66;03m# Make some of the reader's attributes accessible from the clip\u001b[39;00m\n\u001b[1;32m     94\u001b[0m \u001b[38;5;28mself\u001b[39m\u001b[38;5;241m.\u001b[39mduration \u001b[38;5;241m=\u001b[39m \u001b[38;5;28mself\u001b[39m\u001b[38;5;241m.\u001b[39mreader\u001b[38;5;241m.\u001b[39mduration\n",
      "File \u001b[0;32m~/anaconda3/envs/openmmlab/lib/python3.8/site-packages/moviepy/video/io/ffmpeg_reader.py:73\u001b[0m, in \u001b[0;36mFFMPEG_VideoReader.__init__\u001b[0;34m(self, filename, print_infos, bufsize, pix_fmt, check_duration, target_resolution, resize_algo, fps_source)\u001b[0m\n\u001b[1;32m     69\u001b[0m \u001b[38;5;28mself\u001b[39m\u001b[38;5;241m.\u001b[39minitialize()\n\u001b[1;32m     72\u001b[0m \u001b[38;5;28mself\u001b[39m\u001b[38;5;241m.\u001b[39mpos \u001b[38;5;241m=\u001b[39m \u001b[38;5;241m1\u001b[39m\n\u001b[0;32m---> 73\u001b[0m \u001b[38;5;28mself\u001b[39m\u001b[38;5;241m.\u001b[39mlastread \u001b[38;5;241m=\u001b[39m \u001b[38;5;28;43mself\u001b[39;49m\u001b[38;5;241;43m.\u001b[39;49m\u001b[43mread_frame\u001b[49m\u001b[43m(\u001b[49m\u001b[43m)\u001b[49m\n",
      "File \u001b[0;32m~/anaconda3/envs/openmmlab/lib/python3.8/site-packages/moviepy/video/io/ffmpeg_reader.py:120\u001b[0m, in \u001b[0;36mFFMPEG_VideoReader.read_frame\u001b[0;34m(self)\u001b[0m\n\u001b[1;32m    117\u001b[0m w, h \u001b[38;5;241m=\u001b[39m \u001b[38;5;28mself\u001b[39m\u001b[38;5;241m.\u001b[39msize\n\u001b[1;32m    118\u001b[0m nbytes\u001b[38;5;241m=\u001b[39m \u001b[38;5;28mself\u001b[39m\u001b[38;5;241m.\u001b[39mdepth\u001b[38;5;241m*\u001b[39mw\u001b[38;5;241m*\u001b[39mh\n\u001b[0;32m--> 120\u001b[0m s \u001b[38;5;241m=\u001b[39m \u001b[38;5;28;43mself\u001b[39;49m\u001b[38;5;241;43m.\u001b[39;49m\u001b[43mproc\u001b[49m\u001b[38;5;241;43m.\u001b[39;49m\u001b[43mstdout\u001b[49m\u001b[38;5;241;43m.\u001b[39;49m\u001b[43mread\u001b[49m\u001b[43m(\u001b[49m\u001b[43mnbytes\u001b[49m\u001b[43m)\u001b[49m\n\u001b[1;32m    121\u001b[0m \u001b[38;5;28;01mif\u001b[39;00m \u001b[38;5;28mlen\u001b[39m(s) \u001b[38;5;241m!=\u001b[39m nbytes:\n\u001b[1;32m    123\u001b[0m     warnings\u001b[38;5;241m.\u001b[39mwarn(\u001b[38;5;124m\"\u001b[39m\u001b[38;5;124mWarning: in file \u001b[39m\u001b[38;5;132;01m%s\u001b[39;00m\u001b[38;5;124m, \u001b[39m\u001b[38;5;124m\"\u001b[39m\u001b[38;5;241m%\u001b[39m(\u001b[38;5;28mself\u001b[39m\u001b[38;5;241m.\u001b[39mfilename)\u001b[38;5;241m+\u001b[39m\n\u001b[1;32m    124\u001b[0m            \u001b[38;5;124m\"\u001b[39m\u001b[38;5;132;01m%d\u001b[39;00m\u001b[38;5;124m bytes wanted but \u001b[39m\u001b[38;5;132;01m%d\u001b[39;00m\u001b[38;5;124m bytes read,\u001b[39m\u001b[38;5;124m\"\u001b[39m\u001b[38;5;241m%\u001b[39m(nbytes, \u001b[38;5;28mlen\u001b[39m(s))\u001b[38;5;241m+\u001b[39m\n\u001b[1;32m    125\u001b[0m            \u001b[38;5;124m\"\u001b[39m\u001b[38;5;124mat frame \u001b[39m\u001b[38;5;132;01m%d\u001b[39;00m\u001b[38;5;124m/\u001b[39m\u001b[38;5;132;01m%d\u001b[39;00m\u001b[38;5;124m, at time \u001b[39m\u001b[38;5;132;01m%.02f\u001b[39;00m\u001b[38;5;124m/\u001b[39m\u001b[38;5;132;01m%.02f\u001b[39;00m\u001b[38;5;124m sec. \u001b[39m\u001b[38;5;124m\"\u001b[39m\u001b[38;5;241m%\u001b[39m(\n\u001b[0;32m   (...)\u001b[0m\n\u001b[1;32m    129\u001b[0m            \u001b[38;5;124m\"\u001b[39m\u001b[38;5;124mUsing the last valid frame instead.\u001b[39m\u001b[38;5;124m\"\u001b[39m,\n\u001b[1;32m    130\u001b[0m            \u001b[38;5;167;01mUserWarning\u001b[39;00m)\n",
      "\u001b[0;31mKeyboardInterrupt\u001b[0m: "
     ]
    }
   ],
   "source": [
    "video_folder = '/home/jaspreet/Downloads/Thesis/Theisis_videos'\n",
    "\n",
    "import os\n",
    "import random\n",
    "from moviepy.editor import VideoFileClip, TextClip, concatenate_videoclips, CompositeVideoClip\n",
    "from moviepy.video.fx.all import freeze\n",
    "from moviepy.config import change_settings\n",
    "change_settings({\"IMAGEMAGICK_BINARY\": \"/usr/bin/convert\" })\n",
    "\n",
    "# Get all video file paths from the folder\n",
    "video_extensions = (\".mp4\", \".avi\", \".MOV\")  # Add other extensions if needed\n",
    "video_paths = [os.path.join(video_folder, f) for f in os.listdir(video_folder) if f.endswith(video_extensions)]\n",
    "\n",
    "# Load the first video to get the size (resolution)\n",
    "reference_clip = VideoFileClip(video_paths[0])\n",
    "reference_width, reference_height = reference_clip.size\n",
    "print(reference_clip.size)\n",
    "\n",
    "print(video_paths)\n",
    "# Load all video clips and duplicate each 4 times\n",
    "clips = []\n",
    "for path in video_paths:\n",
    "    clip = VideoFileClip(path)\n",
    "    clip_resized = clip.resize((reference_height, reference_width))\n",
    "    # Remove audio from the clip\n",
    "    clip_resized = clip_resized.without_audio()\n",
    "    # Add 4 copies of the resized clip to the clips list\n",
    "    clips.extend([clip_resized] * 4)\n",
    "\n",
    "# Shuffle the duplicated video clips\n",
    "random.shuffle(clips)\n",
    "\n",
    "## for testing\n",
    "clips = clips[:5]\n",
    "\n",
    "# Function to create a pause with the next video's name\n",
    "def create_pause_clip(text, duration=5):\n",
    "    # Create a frozen image of the first frame and set it to the specified duration\n",
    "    pause_clip = clips[0].to_ImageClip().set_duration(duration)\n",
    "    \n",
    "    # Create a text clip with the name of the next video\n",
    "    text_clip = (TextClip(text, fontsize=40, color='white')\n",
    "                 .set_duration(duration)\n",
    "                 .set_position(\"center\"))\n",
    "    \n",
    "    # Overlay the text onto the pause clip\n",
    "    pause_with_text = CompositeVideoClip([pause_clip, text_clip])\n",
    "    return pause_with_text\n",
    "\n",
    "# Combine videos with pause clips in between\n",
    "final_clips = []\n",
    "for i, clip in enumerate(clips):\n",
    "    final_clips.append(clip)\n",
    "    # if i < len(clips) - 1:  # Avoid adding a pause after the last clip\n",
    "    #     next_video_name = f\"Next: {os.path.basename(clips[i+1].filename)}\"\n",
    "    #     final_clips.append(create_pause_clip(next_video_name))\n",
    "\n",
    "# Concatenate all the clips together\n",
    "final_video = concatenate_videoclips(final_clips, method=\"compose\")\n",
    "\n",
    "# Save the final video\n",
    "final_video.write_videofile(\"/home/jaspreet/Downloads/Thesis/code/Sept 2/mmpose/vis_results/final_videos/output_video.mp4\", codec=\"libx264\", audio_codec=\"aac\")\n",
    "\n"
   ]
  },
  {
   "cell_type": "code",
   "execution_count": 1,
   "metadata": {},
   "outputs": [
    {
     "ename": "KeyboardInterrupt",
     "evalue": "",
     "output_type": "error",
     "traceback": [
      "\u001b[0;31m---------------------------------------------------------------------------\u001b[0m",
      "\u001b[0;31mKeyboardInterrupt\u001b[0m                         Traceback (most recent call last)",
      "Cell \u001b[0;32mIn[1], line 52\u001b[0m\n\u001b[1;32m     50\u001b[0m \u001b[38;5;66;03m# Duplicate each video 4 times and add them to the clips list (without audio)\u001b[39;00m\n\u001b[1;32m     51\u001b[0m \u001b[38;5;28;01mfor\u001b[39;00m path \u001b[38;5;129;01min\u001b[39;00m video_paths:\n\u001b[0;32m---> 52\u001b[0m     clip \u001b[38;5;241m=\u001b[39m \u001b[43mVideoFileClip\u001b[49m\u001b[43m(\u001b[49m\u001b[43mpath\u001b[49m\u001b[43m)\u001b[49m\n\u001b[1;32m     54\u001b[0m     \u001b[38;5;66;03m# Resize the video to fit the left side of the final composite (640x720), preserving aspect ratio\u001b[39;00m\n\u001b[1;32m     55\u001b[0m     clip_resized \u001b[38;5;241m=\u001b[39m resize_video_preserve_aspect_ratio(clip, \u001b[38;5;241m640\u001b[39m)\n",
      "File \u001b[0;32m~/anaconda3/envs/openmmlab/lib/python3.8/site-packages/moviepy/video/io/VideoFileClip.py:118\u001b[0m, in \u001b[0;36mVideoFileClip.__init__\u001b[0;34m(self, filename, has_mask, audio, audio_buffersize, target_resolution, resize_algorithm, audio_fps, audio_nbytes, verbose, fps_source)\u001b[0m\n\u001b[1;32m    115\u001b[0m \u001b[38;5;66;03m# Make a reader for the audio, if any.\u001b[39;00m\n\u001b[1;32m    116\u001b[0m \u001b[38;5;28;01mif\u001b[39;00m audio \u001b[38;5;129;01mand\u001b[39;00m \u001b[38;5;28mself\u001b[39m\u001b[38;5;241m.\u001b[39mreader\u001b[38;5;241m.\u001b[39minfos[\u001b[38;5;124m'\u001b[39m\u001b[38;5;124maudio_found\u001b[39m\u001b[38;5;124m'\u001b[39m]:\n\u001b[0;32m--> 118\u001b[0m     \u001b[38;5;28mself\u001b[39m\u001b[38;5;241m.\u001b[39maudio \u001b[38;5;241m=\u001b[39m \u001b[43mAudioFileClip\u001b[49m\u001b[43m(\u001b[49m\u001b[43mfilename\u001b[49m\u001b[43m,\u001b[49m\n\u001b[1;32m    119\u001b[0m \u001b[43m                               \u001b[49m\u001b[43mbuffersize\u001b[49m\u001b[38;5;241;43m=\u001b[39;49m\u001b[43maudio_buffersize\u001b[49m\u001b[43m,\u001b[49m\n\u001b[1;32m    120\u001b[0m \u001b[43m                               \u001b[49m\u001b[43mfps\u001b[49m\u001b[38;5;241;43m=\u001b[39;49m\u001b[43maudio_fps\u001b[49m\u001b[43m,\u001b[49m\n\u001b[1;32m    121\u001b[0m \u001b[43m                               \u001b[49m\u001b[43mnbytes\u001b[49m\u001b[38;5;241;43m=\u001b[39;49m\u001b[43maudio_nbytes\u001b[49m\u001b[43m)\u001b[49m\n",
      "File \u001b[0;32m~/anaconda3/envs/openmmlab/lib/python3.8/site-packages/moviepy/audio/io/AudioFileClip.py:70\u001b[0m, in \u001b[0;36mAudioFileClip.__init__\u001b[0;34m(self, filename, buffersize, nbytes, fps)\u001b[0m\n\u001b[1;32m     67\u001b[0m AudioClip\u001b[38;5;241m.\u001b[39m\u001b[38;5;21m__init__\u001b[39m(\u001b[38;5;28mself\u001b[39m)\n\u001b[1;32m     69\u001b[0m \u001b[38;5;28mself\u001b[39m\u001b[38;5;241m.\u001b[39mfilename \u001b[38;5;241m=\u001b[39m filename\n\u001b[0;32m---> 70\u001b[0m \u001b[38;5;28mself\u001b[39m\u001b[38;5;241m.\u001b[39mreader \u001b[38;5;241m=\u001b[39m \u001b[43mFFMPEG_AudioReader\u001b[49m\u001b[43m(\u001b[49m\u001b[43mfilename\u001b[49m\u001b[43m,\u001b[49m\u001b[43m \u001b[49m\u001b[43mfps\u001b[49m\u001b[38;5;241;43m=\u001b[39;49m\u001b[43mfps\u001b[49m\u001b[43m,\u001b[49m\u001b[43m \u001b[49m\u001b[43mnbytes\u001b[49m\u001b[38;5;241;43m=\u001b[39;49m\u001b[43mnbytes\u001b[49m\u001b[43m,\u001b[49m\n\u001b[1;32m     71\u001b[0m \u001b[43m                                 \u001b[49m\u001b[43mbuffersize\u001b[49m\u001b[38;5;241;43m=\u001b[39;49m\u001b[43mbuffersize\u001b[49m\u001b[43m)\u001b[49m\n\u001b[1;32m     72\u001b[0m \u001b[38;5;28mself\u001b[39m\u001b[38;5;241m.\u001b[39mfps \u001b[38;5;241m=\u001b[39m fps\n\u001b[1;32m     73\u001b[0m \u001b[38;5;28mself\u001b[39m\u001b[38;5;241m.\u001b[39mduration \u001b[38;5;241m=\u001b[39m \u001b[38;5;28mself\u001b[39m\u001b[38;5;241m.\u001b[39mreader\u001b[38;5;241m.\u001b[39mduration\n",
      "File \u001b[0;32m~/anaconda3/envs/openmmlab/lib/python3.8/site-packages/moviepy/audio/io/readers.py:65\u001b[0m, in \u001b[0;36mFFMPEG_AudioReader.__init__\u001b[0;34m(self, filename, buffersize, print_infos, fps, nbytes, nchannels)\u001b[0m\n\u001b[1;32m     63\u001b[0m \u001b[38;5;28mself\u001b[39m\u001b[38;5;241m.\u001b[39mbuffer_startframe \u001b[38;5;241m=\u001b[39m \u001b[38;5;241m1\u001b[39m\n\u001b[1;32m     64\u001b[0m \u001b[38;5;28mself\u001b[39m\u001b[38;5;241m.\u001b[39minitialize()\n\u001b[0;32m---> 65\u001b[0m \u001b[38;5;28;43mself\u001b[39;49m\u001b[38;5;241;43m.\u001b[39;49m\u001b[43mbuffer_around\u001b[49m\u001b[43m(\u001b[49m\u001b[38;5;241;43m1\u001b[39;49m\u001b[43m)\u001b[49m\n",
      "File \u001b[0;32m~/anaconda3/envs/openmmlab/lib/python3.8/site-packages/moviepy/audio/io/readers.py:247\u001b[0m, in \u001b[0;36mFFMPEG_AudioReader.buffer_around\u001b[0;34m(self, framenumber)\u001b[0m\n\u001b[1;32m    245\u001b[0m \u001b[38;5;28;01melse\u001b[39;00m:\n\u001b[1;32m    246\u001b[0m     \u001b[38;5;28mself\u001b[39m\u001b[38;5;241m.\u001b[39mseek(new_bufferstart)\n\u001b[0;32m--> 247\u001b[0m     \u001b[38;5;28mself\u001b[39m\u001b[38;5;241m.\u001b[39mbuffer \u001b[38;5;241m=\u001b[39m  \u001b[38;5;28;43mself\u001b[39;49m\u001b[38;5;241;43m.\u001b[39;49m\u001b[43mread_chunk\u001b[49m\u001b[43m(\u001b[49m\u001b[38;5;28;43mself\u001b[39;49m\u001b[38;5;241;43m.\u001b[39;49m\u001b[43mbuffersize\u001b[49m\u001b[43m)\u001b[49m\n\u001b[1;32m    249\u001b[0m \u001b[38;5;28mself\u001b[39m\u001b[38;5;241m.\u001b[39mbuffer_startframe \u001b[38;5;241m=\u001b[39m new_bufferstart\n",
      "File \u001b[0;32m~/anaconda3/envs/openmmlab/lib/python3.8/site-packages/moviepy/audio/io/readers.py:119\u001b[0m, in \u001b[0;36mFFMPEG_AudioReader.read_chunk\u001b[0;34m(self, chunksize)\u001b[0m\n\u001b[1;32m    117\u001b[0m \u001b[38;5;28;01melse\u001b[39;00m:\n\u001b[1;32m    118\u001b[0m     result \u001b[38;5;241m=\u001b[39m np\u001b[38;5;241m.\u001b[39mfromstring(s, dtype\u001b[38;5;241m=\u001b[39mdt)\n\u001b[0;32m--> 119\u001b[0m result \u001b[38;5;241m=\u001b[39m (\u001b[38;5;241;43m1.0\u001b[39;49m\u001b[38;5;241;43m*\u001b[39;49m\u001b[43mresult\u001b[49m \u001b[38;5;241m/\u001b[39m \u001b[38;5;241m2\u001b[39m\u001b[38;5;241m*\u001b[39m\u001b[38;5;241m*\u001b[39m(\u001b[38;5;241m8\u001b[39m\u001b[38;5;241m*\u001b[39m\u001b[38;5;28mself\u001b[39m\u001b[38;5;241m.\u001b[39mnbytes\u001b[38;5;241m-\u001b[39m\u001b[38;5;241m1\u001b[39m))\u001b[38;5;241m.\u001b[39m\\\n\u001b[1;32m    120\u001b[0m                          reshape((\u001b[38;5;28mint\u001b[39m(\u001b[38;5;28mlen\u001b[39m(result)\u001b[38;5;241m/\u001b[39m\u001b[38;5;28mself\u001b[39m\u001b[38;5;241m.\u001b[39mnchannels),\n\u001b[1;32m    121\u001b[0m                                   \u001b[38;5;28mself\u001b[39m\u001b[38;5;241m.\u001b[39mnchannels))\n\u001b[1;32m    122\u001b[0m \u001b[38;5;66;03m#self.proc.stdout.flush()\u001b[39;00m\n\u001b[1;32m    123\u001b[0m \u001b[38;5;28mself\u001b[39m\u001b[38;5;241m.\u001b[39mpos \u001b[38;5;241m=\u001b[39m \u001b[38;5;28mself\u001b[39m\u001b[38;5;241m.\u001b[39mpos\u001b[38;5;241m+\u001b[39mchunksize\n",
      "\u001b[0;31mKeyboardInterrupt\u001b[0m: "
     ]
    }
   ],
   "source": [
    "folder_path = '/home/jaspreet/Downloads/Thesis/Thesis_gesture_videos'\n",
    "import os\n",
    "import random\n",
    "from moviepy.editor import VideoFileClip, ImageClip, CompositeVideoClip, concatenate_videoclips\n",
    "import matplotlib.pyplot as plt\n",
    "\n",
    "# Function to create text image using matplotlib\n",
    "def create_text_image(text, size=(640, 720), fontsize=40, text_color='black', bg_color='white'):\n",
    "    # Create an empty figure with white background\n",
    "    fig, ax = plt.subplots(figsize=(size[0] / 100, size[1] / 100), dpi=100)\n",
    "    ax.set_xlim(0, size[0])\n",
    "    ax.set_ylim(0, size[1])\n",
    "    ax.axis('off')  # Hide axes\n",
    "\n",
    "    # Add text to the figure\n",
    "    ax.text(0.5, 0.5, text, ha='center', va='center', fontsize=fontsize, color=text_color, \n",
    "            fontweight='bold')\n",
    "\n",
    "    # Save the figure as an image\n",
    "    plt.savefig('/tmp/text_image.png', bbox_inches='tight', pad_inches=0, transparent=False, dpi=100)\n",
    "    plt.close(fig)\n",
    "    \n",
    "    # Load the image as an ImageClip\n",
    "    text_image = ImageClip('/tmp/text_image.png').set_duration(10)  # Set duration for the text\n",
    "    text_image = text_image.resize(size)  # Resize the image to the required size\n",
    "    \n",
    "    return text_image\n",
    "\n",
    "# Path to the folder containing the video files\n",
    "\n",
    "# Get all video files from the folder\n",
    "video_paths = [os.path.join(folder_path, f) for f in os.listdir(folder_path) if f.endswith(('.mp4', '.avi', '.MOV'))]\n",
    "\n",
    "# List to store the clips\n",
    "clips = []\n",
    "\n",
    "# Load the first video to get the size (resolution)\n",
    "reference_clip = VideoFileClip(video_paths[0])\n",
    "reference_width, reference_height = reference_clip.size\n",
    "\n",
    "# Function to resize video while preserving aspect ratio\n",
    "def resize_video_preserve_aspect_ratio(clip, target_width):\n",
    "    # Calculate aspect ratio\n",
    "    aspect_ratio = clip.size[0] / clip.size[1]\n",
    "    target_height = int(target_width / aspect_ratio)\n",
    "    \n",
    "    # Resize the video with the preserved aspect ratio\n",
    "    return clip.resize(width=target_width, height=target_height)\n",
    "\n",
    "# Duplicate each video 4 times and add them to the clips list (without audio)\n",
    "for path in video_paths:\n",
    "    clip = VideoFileClip(path)\n",
    "    \n",
    "    # Resize the video to fit the left side of the final composite (640x720), preserving aspect ratio\n",
    "    clip_resized = resize_video_preserve_aspect_ratio(clip, 640)\n",
    "    \n",
    "    # Remove audio from the clip\n",
    "    clip_resized = clip_resized.without_audio()\n",
    "    \n",
    "    # Add 4 copies of the resized clip to the clips list\n",
    "    clips.extend([clip_resized] * 4)\n",
    "\n",
    "# Shuffle the clips randomly\n",
    "random.shuffle(clips)\n",
    "\n",
    "clips = clips[:5]\n",
    "# Create a text image for the other side of the frame (right side)\n",
    "text = \"Your Text Here\"  # Customize this text\n",
    "text_clip = create_text_image(text, size=(640, 720))\n",
    "\n",
    "# Set the position of the video and text (left side for the video, right side for the text)\n",
    "text_clip = text_clip.set_position(('right', 'center'))\n",
    "\n",
    "# List to store the final composite clips with video and text\n",
    "final_clips = []\n",
    "\n",
    "# Iterate over the shuffled video clips and create the final composite\n",
    "for video_clip in clips:\n",
    "    # Create a final composite clip with the video and text\n",
    "    final_clip = CompositeVideoClip([video_clip, text_clip], size=(1280, 720), bg_color=(255, 255, 255))\n",
    "    final_clips.append(final_clip)\n",
    "\n",
    "# Concatenate the shuffled and merged clips\n",
    "final_video = concatenate_videoclips(final_clips)\n",
    "\n",
    "# Write the final video to file (without audio)\n",
    "final_video.write_videofile(\"output_video.mp4\", codec=\"libx264\")\n",
    "\n"
   ]
  },
  {
   "cell_type": "code",
   "execution_count": 7,
   "metadata": {},
   "outputs": [
    {
     "name": "stdout",
     "output_type": "stream",
     "text": [
      "processing video: /home/jaspreet/Downloads/Thesis/Theisis_videos/follow.MOV\n",
      "processing video: /home/jaspreet/Downloads/Thesis/Theisis_videos/right.MOV\n",
      "processing video: /home/jaspreet/Downloads/Thesis/Theisis_videos/cut_engine_right.MOV\n",
      "processing video: /home/jaspreet/Downloads/Thesis/Theisis_videos/slow_down.MOV\n",
      "processing video: /home/jaspreet/Downloads/Thesis/Theisis_videos/stop.MOV\n",
      "processing video: /home/jaspreet/Downloads/Thesis/Theisis_videos/negative.MOV\n",
      "processing video: /home/jaspreet/Downloads/Thesis/Theisis_videos/move_away.MOV\n",
      "processing video: /home/jaspreet/Downloads/Thesis/Theisis_videos/move_away.MOV\n",
      "processing video: /home/jaspreet/Downloads/Thesis/Theisis_videos/straight.MOV\n",
      "processing video: /home/jaspreet/Downloads/Thesis/Theisis_videos/slow_down.MOV\n",
      "processing video: /home/jaspreet/Downloads/Thesis/Theisis_videos/come_close.MOV\n",
      "processing video: /home/jaspreet/Downloads/Thesis/Theisis_videos/straight.MOV\n",
      "processing video: /home/jaspreet/Downloads/Thesis/Theisis_videos/negative.MOV\n",
      "processing video: /home/jaspreet/Downloads/Thesis/Theisis_videos/release_brake.MOV\n",
      "processing video: /home/jaspreet/Downloads/Thesis/Theisis_videos/come_close.MOV\n",
      "processing video: /home/jaspreet/Downloads/Thesis/Theisis_videos/follow.MOV\n",
      "processing video: /home/jaspreet/Downloads/Thesis/Theisis_videos/right.MOV\n",
      "processing video: /home/jaspreet/Downloads/Thesis/Theisis_videos/brake_fire_right.MOV\n",
      "processing video: /home/jaspreet/Downloads/Thesis/Theisis_videos/brake_fire_right.MOV\n",
      "processing video: /home/jaspreet/Downloads/Thesis/Theisis_videos/left.MOV\n",
      "processing video: /home/jaspreet/Downloads/Thesis/Theisis_videos/engine_start_right.MOV\n",
      "processing video: /home/jaspreet/Downloads/Thesis/Theisis_videos/take_photo.MOV\n",
      "processing video: /home/jaspreet/Downloads/Thesis/Theisis_videos/follow.MOV\n",
      "processing video: /home/jaspreet/Downloads/Thesis/Theisis_videos/left.MOV\n",
      "processing video: /home/jaspreet/Downloads/Thesis/Theisis_videos/cut_engine_right.MOV\n",
      "processing video: /home/jaspreet/Downloads/Thesis/Theisis_videos/right.MOV\n",
      "processing video: /home/jaspreet/Downloads/Thesis/Theisis_videos/left.MOV\n",
      "processing video: /home/jaspreet/Downloads/Thesis/Theisis_videos/negative.MOV\n",
      "processing video: /home/jaspreet/Downloads/Thesis/Theisis_videos/come_close.MOV\n",
      "processing video: /home/jaspreet/Downloads/Thesis/Theisis_videos/engine_start_right.MOV\n",
      "processing video: /home/jaspreet/Downloads/Thesis/Theisis_videos/down.MOV\n",
      "processing video: /home/jaspreet/Downloads/Thesis/Theisis_videos/negative.MOV\n",
      "processing video: /home/jaspreet/Downloads/Thesis/Theisis_videos/brake_fire_left.MOV\n",
      "processing video: /home/jaspreet/Downloads/Thesis/Theisis_videos/cut_engine_left.MOV\n",
      "processing video: /home/jaspreet/Downloads/Thesis/Theisis_videos/cut_engine_left.MOV\n",
      "processing video: /home/jaspreet/Downloads/Thesis/Theisis_videos/engine_start_left.MOV\n",
      "processing video: /home/jaspreet/Downloads/Thesis/Theisis_videos/engine_start_left.MOV\n",
      "processing video: /home/jaspreet/Downloads/Thesis/Theisis_videos/cut_engine_left.MOV\n",
      "processing video: /home/jaspreet/Downloads/Thesis/Theisis_videos/move_away.MOV\n",
      "processing video: /home/jaspreet/Downloads/Thesis/Theisis_videos/brake_fire_right.MOV\n",
      "processing video: /home/jaspreet/Downloads/Thesis/Theisis_videos/slow_down.MOV\n",
      "processing video: /home/jaspreet/Downloads/Thesis/Theisis_videos/take_photo.MOV\n",
      "processing video: /home/jaspreet/Downloads/Thesis/Theisis_videos/stop.MOV\n",
      "processing video: /home/jaspreet/Downloads/Thesis/Theisis_videos/up.MOV\n",
      "processing video: /home/jaspreet/Downloads/Thesis/Theisis_videos/brake_fire_left.MOV\n",
      "processing video: /home/jaspreet/Downloads/Thesis/Theisis_videos/release_brake.MOV\n",
      "processing video: /home/jaspreet/Downloads/Thesis/Theisis_videos/follow.MOV\n",
      "processing video: /home/jaspreet/Downloads/Thesis/Theisis_videos/take_photo.MOV\n",
      "processing video: /home/jaspreet/Downloads/Thesis/Theisis_videos/come_close.MOV\n",
      "processing video: /home/jaspreet/Downloads/Thesis/Theisis_videos/take_photo.MOV\n",
      "processing video: /home/jaspreet/Downloads/Thesis/Theisis_videos/up.MOV\n",
      "processing video: /home/jaspreet/Downloads/Thesis/Theisis_videos/stop.MOV\n",
      "processing video: /home/jaspreet/Downloads/Thesis/Theisis_videos/down.MOV\n",
      "processing video: /home/jaspreet/Downloads/Thesis/Theisis_videos/right.MOV\n",
      "processing video: /home/jaspreet/Downloads/Thesis/Theisis_videos/release_brake.MOV\n",
      "processing video: /home/jaspreet/Downloads/Thesis/Theisis_videos/brake.MOV\n",
      "processing video: /home/jaspreet/Downloads/Thesis/Theisis_videos/down.MOV\n",
      "processing video: /home/jaspreet/Downloads/Thesis/Theisis_videos/left.MOV\n",
      "processing video: /home/jaspreet/Downloads/Thesis/Theisis_videos/engine_start_right.MOV\n",
      "processing video: /home/jaspreet/Downloads/Thesis/Theisis_videos/engine_start_right.MOV\n",
      "processing video: /home/jaspreet/Downloads/Thesis/Theisis_videos/cut_engine_right.MOV\n",
      "processing video: /home/jaspreet/Downloads/Thesis/Theisis_videos/brake.MOV\n",
      "processing video: /home/jaspreet/Downloads/Thesis/Theisis_videos/brake.MOV\n",
      "processing video: /home/jaspreet/Downloads/Thesis/Theisis_videos/slow_down.MOV\n",
      "processing video: /home/jaspreet/Downloads/Thesis/Theisis_videos/up.MOV\n",
      "processing video: /home/jaspreet/Downloads/Thesis/Theisis_videos/engine_start_left.MOV\n",
      "processing video: /home/jaspreet/Downloads/Thesis/Theisis_videos/brake.MOV\n",
      "processing video: /home/jaspreet/Downloads/Thesis/Theisis_videos/release_brake.MOV\n",
      "processing video: /home/jaspreet/Downloads/Thesis/Theisis_videos/stop.MOV\n",
      "processing video: /home/jaspreet/Downloads/Thesis/Theisis_videos/brake_fire_right.MOV\n",
      "processing video: /home/jaspreet/Downloads/Thesis/Theisis_videos/up.MOV\n",
      "processing video: /home/jaspreet/Downloads/Thesis/Theisis_videos/engine_start_left.MOV\n",
      "processing video: /home/jaspreet/Downloads/Thesis/Theisis_videos/down.MOV\n",
      "processing video: /home/jaspreet/Downloads/Thesis/Theisis_videos/brake_fire_left.MOV\n",
      "processing video: /home/jaspreet/Downloads/Thesis/Theisis_videos/cut_engine_right.MOV\n",
      "processing video: /home/jaspreet/Downloads/Thesis/Theisis_videos/brake_fire_left.MOV\n",
      "processing video: /home/jaspreet/Downloads/Thesis/Theisis_videos/straight.MOV\n",
      "processing video: /home/jaspreet/Downloads/Thesis/Theisis_videos/straight.MOV\n",
      "processing video: /home/jaspreet/Downloads/Thesis/Theisis_videos/cut_engine_left.MOV\n",
      "processing video: /home/jaspreet/Downloads/Thesis/Theisis_videos/move_away.MOV\n",
      "Moviepy - Building video /home/jaspreet/Downloads/Thesis/code/Sept 2/mmpose/vis_results/participants/participant_1_session_1.mp4.\n",
      "Moviepy - Writing video /home/jaspreet/Downloads/Thesis/code/Sept 2/mmpose/vis_results/participants/participant_1_session_1.mp4\n",
      "\n"
     ]
    },
    {
     "name": "stderr",
     "output_type": "stream",
     "text": [
      "t:  15%|█▍        | 2976/20488 [03:34<25:28, 11.46it/s, now=None]"
     ]
    }
   ],
   "source": [
    "import os\n",
    "import random\n",
    "from moviepy.editor import VideoFileClip, concatenate_videoclips, ImageClip, CompositeVideoClip\n",
    "import matplotlib.pyplot as plt\n",
    "\n",
    "def create_text_overlay(text, video_size=(1280, 720), duration=3):\n",
    "    \"\"\"Create a text overlay clip using matplotlib.\"\"\"\n",
    "    fig, ax = plt.subplots(figsize=(video_size[0] / 100, video_size[1] / 100), dpi=100)\n",
    "    ax.text(0.5, 0.5, text, fontsize=24, ha='center', va='center', color=\"white\", weight=\"bold\", bbox=dict(facecolor='black', alpha=0.7))\n",
    "    ax.axis('off')\n",
    "    \n",
    "    # Save the overlay as an image\n",
    "    text_overlay_path = 'text_overlay.png'\n",
    "    plt.savefig(text_overlay_path, transparent=True)\n",
    "    plt.close(fig)\n",
    "    \n",
    "    # Create an ImageClip for the overlay and set its duration\n",
    "    text_clip = ImageClip(text_overlay_path).set_duration(duration)\n",
    "    return text_clip.resize(newsize=video_size)\n",
    "\n",
    "def create_pause_clip(text, duration=3, video_size=(1280, 720)):\n",
    "    \"\"\"Create a pause clip with a message using matplotlib.\"\"\"\n",
    "    fig, ax = plt.subplots(figsize=(video_size[0] / 100, video_size[1] / 100), dpi=100)\n",
    "    ax.text(0.5, 0.5, text, fontsize=24, ha='center', va='center', color=\"black\", weight=\"bold\")\n",
    "    ax.axis('off')\n",
    "    \n",
    "    # Save the pause frame as an image\n",
    "    pause_image_path = 'pause_frame.png'\n",
    "    plt.savefig(pause_image_path)\n",
    "    plt.close(fig)\n",
    "    \n",
    "    # Load the image as a video clip and set its duration\n",
    "    pause_clip = ImageClip(pause_image_path).set_duration(duration)\n",
    "    return pause_clip.resize(newsize=video_size)\n",
    "\n",
    "def combine_and_shuffle_videos(folder_path, output_file=\"output_video.mp4\"):\n",
    "    # Get all video file paths in the folder\n",
    "    video_files = [os.path.join(folder_path, f) for f in os.listdir(folder_path) if f.endswith(('.mp4', '.avi', '.MOV'))]\n",
    "    \n",
    "    # Shuffle the video files and repeat each video 4 times\n",
    "    video_files = video_files * 4\n",
    "    random.shuffle(video_files)\n",
    "    \n",
    "    clips = []\n",
    "\n",
    "    # video_files = video_files[:2]\n",
    "    \n",
    "    reference_clip = VideoFileClip(video_files[0])\n",
    "    reference_width, reference_height = reference_clip.size\n",
    "    ref_video_size = (reference_height, reference_width)\n",
    "    for video_file in video_files:\n",
    "        print(f'processing video: {video_file}')\n",
    "\n",
    "        # Create a pause clip with the name of the next video, matching the video resolution\n",
    "        pause_clip = create_pause_clip(f\"Next video: {os.path.basename(video_file).split('.')[0]}\", duration=3, video_size=ref_video_size)\n",
    "        clips.append(pause_clip)\n",
    "        \n",
    "        # Load the video clip\n",
    "        clip = VideoFileClip(video_file)\n",
    "\n",
    "        clip_resized = clip.resize((reference_height, reference_width))\n",
    "        # Remove audio from the clip\n",
    "        clip_resized = clip_resized.without_audio()\n",
    "        \n",
    "        # Create a text overlay using matplotlib to show the video name\n",
    "        text_overlay = create_text_overlay(f\"{os.path.basename(video_file).split('.')[0]}\", video_size=ref_video_size, duration=clip.duration)\n",
    "        \n",
    "        # Overlay text on the video\n",
    "        clip_with_text = CompositeVideoClip([clip_resized, text_overlay])\n",
    "        \n",
    "        # Append the clip with text to the clips list\n",
    "        clips.append(clip_with_text)\n",
    "        \n",
    "    # Concatenate all the clips into a single video\n",
    "    final_clip = concatenate_videoclips(clips, method=\"compose\")\n",
    "    final_clip.write_videofile(output_file, codec=\"libx264\")\n",
    "\n",
    "# Usage\n",
    "\n",
    "# Usage\n",
    "# combine_and_shuffle_videos(\"/home/jaspreet/Downloads/Thesis/Theisis_videos\", output_file= '/home/jaspreet/Downloads/Thesis/code/Sept 2/mmpose/vis_results/final_videos/output_video.mp4')\n",
    "\n",
    "def generate_participant_sessions(input_folder, output_folder, num_participants=10, num_sessions=5):\n",
    "    if not os.path.exists(output_folder):\n",
    "        os.makedirs(output_folder)\n",
    "\n",
    "    for participant in range(1, num_participants + 1):\n",
    "        for session in range(1, num_sessions + 1):\n",
    "            # Define file names based on participant and session number\n",
    "            video_filename = f\"participant_{participant}_session_{session}.mp4\"\n",
    "            output_file = os.path.join(output_folder, video_filename)\n",
    "            \n",
    "            # Generate the combined video and get the shuffle order\n",
    "            shuffle_order = combine_and_shuffle_videos(input_folder, output_file)\n",
    "            \n",
    "            # Save the shuffle order in a text file\n",
    "            order_filename = f\"participant_{participant}_session_{session}_order.txt\"\n",
    "            order_file_path = os.path.join(output_folder, order_filename)\n",
    "            with open(order_file_path, 'w') as f:\n",
    "                for video_name in shuffle_order:\n",
    "                    f.write(video_name + \"\\n\")\n",
    "\n",
    "# Usage\n",
    "generate_participant_sessions(\"/home/jaspreet/Downloads/Thesis/Theisis_videos\", \"/home/jaspreet/Downloads/Thesis/code/Sept 2/mmpose/vis_results/participants\")"
   ]
  }
 ],
 "metadata": {
  "kernelspec": {
   "display_name": "openmmlab",
   "language": "python",
   "name": "python3"
  },
  "language_info": {
   "codemirror_mode": {
    "name": "ipython",
    "version": 3
   },
   "file_extension": ".py",
   "mimetype": "text/x-python",
   "name": "python",
   "nbconvert_exporter": "python",
   "pygments_lexer": "ipython3",
   "version": "3.8.19"
  }
 },
 "nbformat": 4,
 "nbformat_minor": 2
}
